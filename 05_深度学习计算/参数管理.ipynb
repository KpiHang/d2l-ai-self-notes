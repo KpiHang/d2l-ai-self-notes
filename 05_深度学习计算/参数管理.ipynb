{
 "cells": [
  {
   "cell_type": "code",
   "execution_count": 1,
   "id": "ecec019c",
   "metadata": {
    "ExecuteTime": {
     "end_time": "2022-10-13T06:35:58.506636Z",
     "start_time": "2022-10-13T06:35:56.826539Z"
    }
   },
   "outputs": [
    {
     "data": {
      "text/plain": [
       "tensor([[0.4516],\n",
       "        [0.5172]], grad_fn=<AddmmBackward0>)"
      ]
     },
     "execution_count": 1,
     "metadata": {},
     "output_type": "execute_result"
    }
   ],
   "source": [
    "import torch\n",
    "from torch import nn\n",
    "\n",
    "net = nn.Sequential(nn.Linear(4, 8), nn.ReLU(), nn.Linear(8, 1))\n",
    "X = torch.rand(size=(2, 4))\n",
    "net(X)"
   ]
  },
  {
   "cell_type": "markdown",
   "id": "9e410338",
   "metadata": {},
   "source": [
    "## 参数访问"
   ]
  },
  {
   "cell_type": "code",
   "execution_count": 3,
   "id": "511e1d8c",
   "metadata": {
    "ExecuteTime": {
     "end_time": "2022-10-13T06:38:08.910647Z",
     "start_time": "2022-10-13T06:38:08.902039Z"
    }
   },
   "outputs": [
    {
     "name": "stdout",
     "output_type": "stream",
     "text": [
      "OrderedDict([('weight', tensor([[-0.0205, -0.1595,  0.2746,  0.1488, -0.0511,  0.3292, -0.1727, -0.1077]])), ('bias', tensor([0.3476]))])\n"
     ]
    }
   ],
   "source": [
    "print(net[2].state_dict())"
   ]
  },
  {
   "cell_type": "code",
   "execution_count": 4,
   "id": "61fb2c0b",
   "metadata": {
    "ExecuteTime": {
     "end_time": "2022-10-13T06:38:20.197955Z",
     "start_time": "2022-10-13T06:38:20.176887Z"
    }
   },
   "outputs": [
    {
     "name": "stdout",
     "output_type": "stream",
     "text": [
      "OrderedDict([('weight', tensor([[ 0.4450, -0.2869, -0.1569, -0.4670],\n",
      "        [-0.4799, -0.4326, -0.4883, -0.3525],\n",
      "        [ 0.4793,  0.2976,  0.4723, -0.3660],\n",
      "        [-0.4344, -0.4783, -0.0603,  0.4514],\n",
      "        [ 0.2143,  0.4647, -0.3964, -0.4162],\n",
      "        [ 0.4525,  0.3947,  0.4410, -0.2400],\n",
      "        [-0.1721, -0.4625, -0.3737, -0.3290],\n",
      "        [-0.2019,  0.2819,  0.4831, -0.3437]])), ('bias', tensor([-0.4420,  0.2074, -0.1590,  0.4899, -0.1096, -0.2476,  0.2828, -0.2150]))])\n"
     ]
    }
   ],
   "source": [
    "print(net[0].state_dict())"
   ]
  },
  {
   "cell_type": "code",
   "execution_count": 5,
   "id": "2cba6eff",
   "metadata": {
    "ExecuteTime": {
     "end_time": "2022-10-13T06:38:54.368834Z",
     "start_time": "2022-10-13T06:38:54.365003Z"
    }
   },
   "outputs": [
    {
     "name": "stdout",
     "output_type": "stream",
     "text": [
      "OrderedDict()\n"
     ]
    }
   ],
   "source": [
    "print(net[1].state_dict()) # relu层哪来的权重，和偏差 hhh；"
   ]
  },
  {
   "cell_type": "markdown",
   "id": "91a88204",
   "metadata": {},
   "source": [
    "### 目标参数"
   ]
  },
  {
   "cell_type": "code",
   "execution_count": 6,
   "id": "e80cb7d3",
   "metadata": {
    "ExecuteTime": {
     "end_time": "2022-10-13T06:42:00.697883Z",
     "start_time": "2022-10-13T06:42:00.684084Z"
    }
   },
   "outputs": [
    {
     "name": "stdout",
     "output_type": "stream",
     "text": [
      "<class 'torch.nn.parameter.Parameter'>\n",
      "Parameter containing:\n",
      "tensor([0.3476], requires_grad=True)\n",
      "tensor([0.3476])\n"
     ]
    }
   ],
   "source": [
    "print(type(net[2].bias))\n",
    "print(net[2].bias)\n",
    "print(net[2].bias.data)"
   ]
  },
  {
   "cell_type": "code",
   "execution_count": 7,
   "id": "69416ff3",
   "metadata": {
    "ExecuteTime": {
     "end_time": "2022-10-13T06:42:23.376018Z",
     "start_time": "2022-10-13T06:42:23.370782Z"
    }
   },
   "outputs": [
    {
     "name": "stdout",
     "output_type": "stream",
     "text": [
      "Parameter containing:\n",
      "tensor([[-0.0205, -0.1595,  0.2746,  0.1488, -0.0511,  0.3292, -0.1727, -0.1077]],\n",
      "       requires_grad=True)\n"
     ]
    }
   ],
   "source": [
    "print(net[2].weight)"
   ]
  },
  {
   "cell_type": "code",
   "execution_count": 9,
   "id": "c7e71b6d",
   "metadata": {
    "ExecuteTime": {
     "end_time": "2022-10-13T06:43:08.196540Z",
     "start_time": "2022-10-13T06:43:08.190171Z"
    }
   },
   "outputs": [
    {
     "name": "stdout",
     "output_type": "stream",
     "text": [
      "Parameter containing:\n",
      "tensor([[ 0.4450, -0.2869, -0.1569, -0.4670],\n",
      "        [-0.4799, -0.4326, -0.4883, -0.3525],\n",
      "        [ 0.4793,  0.2976,  0.4723, -0.3660],\n",
      "        [-0.4344, -0.4783, -0.0603,  0.4514],\n",
      "        [ 0.2143,  0.4647, -0.3964, -0.4162],\n",
      "        [ 0.4525,  0.3947,  0.4410, -0.2400],\n",
      "        [-0.1721, -0.4625, -0.3737, -0.3290],\n",
      "        [-0.2019,  0.2819,  0.4831, -0.3437]], requires_grad=True)\n"
     ]
    }
   ],
   "source": [
    "print(net[0].weight)"
   ]
  },
  {
   "cell_type": "code",
   "execution_count": 10,
   "id": "8a2dd635",
   "metadata": {
    "ExecuteTime": {
     "end_time": "2022-10-13T06:43:22.146545Z",
     "start_time": "2022-10-13T06:43:22.140116Z"
    }
   },
   "outputs": [
    {
     "data": {
      "text/plain": [
       "True"
      ]
     },
     "execution_count": 10,
     "metadata": {},
     "output_type": "execute_result"
    }
   ],
   "source": [
    "net[2].weight.grad == None"
   ]
  },
  {
   "cell_type": "markdown",
   "id": "d39c05cd",
   "metadata": {},
   "source": [
    "###  一次性访问所有参数"
   ]
  },
  {
   "cell_type": "code",
   "execution_count": 13,
   "id": "f75b489f",
   "metadata": {
    "ExecuteTime": {
     "end_time": "2022-10-13T06:46:37.680783Z",
     "start_time": "2022-10-13T06:46:37.676053Z"
    }
   },
   "outputs": [
    {
     "name": "stdout",
     "output_type": "stream",
     "text": [
      "('weight', torch.Size([8, 4])) ('bias', torch.Size([8]))\n",
      "('0.weight', torch.Size([8, 4])) ('0.bias', torch.Size([8])) ('2.weight', torch.Size([1, 8])) ('2.bias', torch.Size([1]))\n"
     ]
    }
   ],
   "source": [
    "# Using * in front of a list expands out the members as individual arguments.\n",
    "print(*[(name, param.shape) for name, param in net[0].named_parameters()])\n",
    "print(*[(name, param.shape) for name, param in net.named_parameters()])"
   ]
  },
  {
   "cell_type": "code",
   "execution_count": 12,
   "id": "a74797bd",
   "metadata": {
    "ExecuteTime": {
     "end_time": "2022-10-13T06:44:30.388206Z",
     "start_time": "2022-10-13T06:44:30.383952Z"
    }
   },
   "outputs": [
    {
     "name": "stdout",
     "output_type": "stream",
     "text": [
      "[('weight', torch.Size([8, 4])), ('bias', torch.Size([8]))]\n",
      "[('0.weight', torch.Size([8, 4])), ('0.bias', torch.Size([8])), ('2.weight', torch.Size([1, 8])), ('2.bias', torch.Size([1]))]\n"
     ]
    }
   ],
   "source": [
    "print([(name, param.shape) for name, param in net[0].named_parameters()])\n",
    "print([(name, param.shape) for name, param in net.named_parameters()])"
   ]
  },
  {
   "cell_type": "markdown",
   "id": "4ab7abd5",
   "metadata": {},
   "source": [
    "### 从嵌套块收集参数"
   ]
  },
  {
   "cell_type": "code",
   "execution_count": 14,
   "id": "ca44f78a",
   "metadata": {
    "ExecuteTime": {
     "end_time": "2022-10-13T06:49:16.655969Z",
     "start_time": "2022-10-13T06:49:16.638910Z"
    }
   },
   "outputs": [
    {
     "data": {
      "text/plain": [
       "tensor([[-0.3829],\n",
       "        [-0.3829]], grad_fn=<AddmmBackward0>)"
      ]
     },
     "execution_count": 14,
     "metadata": {},
     "output_type": "execute_result"
    }
   ],
   "source": [
    "def block1():\n",
    "    return nn.Sequential(nn.Linear(4, 8), nn.ReLU(),\n",
    "                         nn.Linear(8, 4), nn.ReLU())\n",
    "\n",
    "def block2():\n",
    "    net = nn.Sequential()\n",
    "    for i in range(4):\n",
    "        # 在这里嵌套 4个block1\n",
    "        net.add_module(f'block {i}', block1())\n",
    "    return net\n",
    "\n",
    "rgnet = nn.Sequential(block2(), nn.Linear(4, 1))\n",
    "rgnet(X)"
   ]
  },
  {
   "cell_type": "code",
   "execution_count": 15,
   "id": "0deb6ac0",
   "metadata": {
    "ExecuteTime": {
     "end_time": "2022-10-13T06:49:27.260705Z",
     "start_time": "2022-10-13T06:49:27.256003Z"
    }
   },
   "outputs": [
    {
     "name": "stdout",
     "output_type": "stream",
     "text": [
      "Sequential(\n",
      "  (0): Sequential(\n",
      "    (block 0): Sequential(\n",
      "      (0): Linear(in_features=4, out_features=8, bias=True)\n",
      "      (1): ReLU()\n",
      "      (2): Linear(in_features=8, out_features=4, bias=True)\n",
      "      (3): ReLU()\n",
      "    )\n",
      "    (block 1): Sequential(\n",
      "      (0): Linear(in_features=4, out_features=8, bias=True)\n",
      "      (1): ReLU()\n",
      "      (2): Linear(in_features=8, out_features=4, bias=True)\n",
      "      (3): ReLU()\n",
      "    )\n",
      "    (block 2): Sequential(\n",
      "      (0): Linear(in_features=4, out_features=8, bias=True)\n",
      "      (1): ReLU()\n",
      "      (2): Linear(in_features=8, out_features=4, bias=True)\n",
      "      (3): ReLU()\n",
      "    )\n",
      "    (block 3): Sequential(\n",
      "      (0): Linear(in_features=4, out_features=8, bias=True)\n",
      "      (1): ReLU()\n",
      "      (2): Linear(in_features=8, out_features=4, bias=True)\n",
      "      (3): ReLU()\n",
      "    )\n",
      "  )\n",
      "  (1): Linear(in_features=4, out_features=1, bias=True)\n",
      ")\n"
     ]
    }
   ],
   "source": [
    "print(rgnet)"
   ]
  },
  {
   "cell_type": "code",
   "execution_count": 16,
   "id": "cb2bd104",
   "metadata": {
    "ExecuteTime": {
     "end_time": "2022-10-13T06:50:46.674333Z",
     "start_time": "2022-10-13T06:50:46.669100Z"
    }
   },
   "outputs": [
    {
     "data": {
      "text/plain": [
       "Sequential(\n",
       "  (0): Linear(in_features=4, out_features=8, bias=True)\n",
       "  (1): ReLU()\n",
       "  (2): Linear(in_features=8, out_features=4, bias=True)\n",
       "  (3): ReLU()\n",
       ")"
      ]
     },
     "execution_count": 16,
     "metadata": {},
     "output_type": "execute_result"
    }
   ],
   "source": [
    "rgnet[0][1]"
   ]
  },
  {
   "cell_type": "code",
   "execution_count": 17,
   "id": "e57931ca",
   "metadata": {
    "ExecuteTime": {
     "end_time": "2022-10-13T06:51:02.290607Z",
     "start_time": "2022-10-13T06:51:02.285064Z"
    }
   },
   "outputs": [
    {
     "data": {
      "text/plain": [
       "tensor([ 0.2428,  0.0356,  0.1816, -0.1282,  0.0024, -0.4137, -0.2773, -0.2174])"
      ]
     },
     "execution_count": 17,
     "metadata": {},
     "output_type": "execute_result"
    }
   ],
   "source": [
    "rgnet[0][1][0].bias.data"
   ]
  },
  {
   "cell_type": "markdown",
   "id": "0d00aa9a",
   "metadata": {},
   "source": [
    "## 参数初始化"
   ]
  },
  {
   "cell_type": "markdown",
   "id": "24730770",
   "metadata": {},
   "source": [
    "### 内置初始化"
   ]
  },
  {
   "cell_type": "code",
   "execution_count": 18,
   "id": "427bf1ec",
   "metadata": {
    "ExecuteTime": {
     "end_time": "2022-10-13T06:54:54.849865Z",
     "start_time": "2022-10-13T06:54:54.839141Z"
    }
   },
   "outputs": [
    {
     "data": {
      "text/plain": [
       "Sequential(\n",
       "  (0): Linear(in_features=4, out_features=8, bias=True)\n",
       "  (1): ReLU()\n",
       "  (2): Linear(in_features=8, out_features=1, bias=True)\n",
       ")"
      ]
     },
     "execution_count": 18,
     "metadata": {},
     "output_type": "execute_result"
    }
   ],
   "source": [
    "net"
   ]
  },
  {
   "cell_type": "code",
   "execution_count": 19,
   "id": "8c228953",
   "metadata": {
    "ExecuteTime": {
     "end_time": "2022-10-13T06:55:05.415295Z",
     "start_time": "2022-10-13T06:55:05.399005Z"
    }
   },
   "outputs": [
    {
     "data": {
      "text/plain": [
       "(tensor([-0.0096, -0.0068,  0.0140, -0.0010]), tensor(0.))"
      ]
     },
     "execution_count": 19,
     "metadata": {},
     "output_type": "execute_result"
    }
   ],
   "source": [
    "def init_normal(m):\n",
    "    if type(m) == nn.Linear:\n",
    "        nn.init.normal_(m.weight, mean=0, std=0.01)\n",
    "        nn.init.zeros_(m.bias)\n",
    "net.apply(init_normal)\n",
    "net[0].weight.data[0], net[0].bias.data[0]"
   ]
  },
  {
   "cell_type": "code",
   "execution_count": 20,
   "id": "1a5842e1",
   "metadata": {
    "ExecuteTime": {
     "end_time": "2022-10-13T06:56:09.304129Z",
     "start_time": "2022-10-13T06:56:09.290190Z"
    }
   },
   "outputs": [
    {
     "data": {
      "text/plain": [
       "(tensor([1., 1., 1., 1.]), tensor(0.))"
      ]
     },
     "execution_count": 20,
     "metadata": {},
     "output_type": "execute_result"
    }
   ],
   "source": [
    "def init_constant(m):\n",
    "    if type(m) == nn.Linear:\n",
    "        nn.init.constant_(m.weight, 1)\n",
    "        nn.init.zeros_(m.bias)\n",
    "net.apply(init_constant)\n",
    "net[0].weight.data[0], net[0].bias.data[0]"
   ]
  },
  {
   "cell_type": "code",
   "execution_count": 21,
   "id": "e8932564",
   "metadata": {
    "ExecuteTime": {
     "end_time": "2022-10-13T06:56:21.214137Z",
     "start_time": "2022-10-13T06:56:21.207355Z"
    }
   },
   "outputs": [
    {
     "data": {
      "text/plain": [
       "(tensor([1., 1., 1., 1., 1., 1., 1., 1.]), tensor(0.))"
      ]
     },
     "execution_count": 21,
     "metadata": {},
     "output_type": "execute_result"
    }
   ],
   "source": [
    "net[2].weight.data[0], net[2].bias.data[0]"
   ]
  },
  {
   "cell_type": "markdown",
   "id": "1d893b69",
   "metadata": {},
   "source": [
    "我们还可以对某些块应用不同的初始化方法。 "
   ]
  },
  {
   "cell_type": "code",
   "execution_count": 22,
   "id": "39d808fa",
   "metadata": {
    "ExecuteTime": {
     "end_time": "2022-10-13T06:57:05.193177Z",
     "start_time": "2022-10-13T06:57:05.181987Z"
    }
   },
   "outputs": [
    {
     "name": "stdout",
     "output_type": "stream",
     "text": [
      "tensor([-0.6192, -0.5023, -0.3234, -0.4874])\n",
      "tensor([[42., 42., 42., 42., 42., 42., 42., 42.]])\n"
     ]
    }
   ],
   "source": [
    "def init_xavier(m):\n",
    "    if type(m) == nn.Linear:\n",
    "        nn.init.xavier_uniform_(m.weight)\n",
    "def init_42(m):\n",
    "    if type(m) == nn.Linear:\n",
    "        nn.init.constant_(m.weight, 42)\n",
    "\n",
    "net[0].apply(init_xavier)\n",
    "net[2].apply(init_42)\n",
    "print(net[0].weight.data[0])\n",
    "print(net[2].weight.data)"
   ]
  },
  {
   "cell_type": "markdown",
   "id": "099527fd",
   "metadata": {},
   "source": [
    "### 自定义初始化\n",
    "\n",
    "深度学习框架没有提供我们需要的初始化方法。 在下面的例子中，我们使用以下的分布为任意权重参数w定义初始化方法：\n",
    "\n",
    "$$\\begin{split}\\begin{aligned}\n",
    "    w \\sim \\begin{cases}\n",
    "        U(5, 10) & \\text{ 可能性 } \\frac{1}{4} \\\\\n",
    "            0    & \\text{ 可能性 } \\frac{1}{2} \\\\\n",
    "        U(-10, -5) & \\text{ 可能性 } \\frac{1}{4}\n",
    "    \\end{cases}\n",
    "\\end{aligned}\\end{split}$$"
   ]
  },
  {
   "cell_type": "code",
   "execution_count": 23,
   "id": "5d24cd6f",
   "metadata": {
    "ExecuteTime": {
     "end_time": "2022-10-13T08:23:37.150624Z",
     "start_time": "2022-10-13T08:23:37.016814Z"
    }
   },
   "outputs": [
    {
     "name": "stdout",
     "output_type": "stream",
     "text": [
      "Init weight torch.Size([8, 4])\n",
      "Init weight torch.Size([1, 8])\n"
     ]
    },
    {
     "data": {
      "text/plain": [
       "tensor([[-0.0000,  0.0000, -0.0000,  0.0000],\n",
       "        [ 6.6855,  0.0000, -6.2908,  0.0000]], grad_fn=<SliceBackward0>)"
      ]
     },
     "execution_count": 23,
     "metadata": {},
     "output_type": "execute_result"
    }
   ],
   "source": [
    "def my_init(m):\n",
    "    if type(m) == nn.Linear:\n",
    "        print(\"Init\", *[(name, param.shape)\n",
    "                        for name, param in m.named_parameters()][0])\n",
    "        nn.init.uniform_(m.weight, -10, 10)\n",
    "        m.weight.data *= m.weight.data.abs() >= 5\n",
    "\n",
    "net.apply(my_init)\n",
    "net[0].weight[:2]"
   ]
  },
  {
   "cell_type": "code",
   "execution_count": 24,
   "id": "84b05ea6",
   "metadata": {
    "ExecuteTime": {
     "end_time": "2022-10-13T08:23:45.374334Z",
     "start_time": "2022-10-13T08:23:45.357149Z"
    }
   },
   "outputs": [
    {
     "data": {
      "text/plain": [
       "tensor([42.,  1.,  1.,  1.])"
      ]
     },
     "execution_count": 24,
     "metadata": {},
     "output_type": "execute_result"
    }
   ],
   "source": [
    "net[0].weight.data[:] += 1\n",
    "net[0].weight.data[0, 0] = 42\n",
    "net[0].weight.data[0]"
   ]
  },
  {
   "cell_type": "markdown",
   "id": "17a5ab87",
   "metadata": {},
   "source": [
    "##  参数绑定"
   ]
  },
  {
   "cell_type": "code",
   "execution_count": 25,
   "id": "340c8e1d",
   "metadata": {
    "ExecuteTime": {
     "end_time": "2022-10-13T08:24:26.400140Z",
     "start_time": "2022-10-13T08:24:26.352078Z"
    }
   },
   "outputs": [
    {
     "name": "stdout",
     "output_type": "stream",
     "text": [
      "tensor([True, True, True, True, True, True, True, True])\n",
      "tensor([True, True, True, True, True, True, True, True])\n"
     ]
    }
   ],
   "source": [
    "# 我们需要给共享层一个名称，以便可以引用它的参数\n",
    "shared = nn.Linear(8, 8)\n",
    "net = nn.Sequential(nn.Linear(4, 8), nn.ReLU(),\n",
    "                    shared, nn.ReLU(),\n",
    "                    shared, nn.ReLU(),\n",
    "                    nn.Linear(8, 1))\n",
    "net(X)\n",
    "# 检查参数是否相同\n",
    "print(net[2].weight.data[0] == net[4].weight.data[0])\n",
    "net[2].weight.data[0, 0] = 100\n",
    "# 确保它们实际上是同一个对象，而不只是有相同的值\n",
    "print(net[2].weight.data[0] == net[4].weight.data[0])"
   ]
  },
  {
   "cell_type": "markdown",
   "id": "f3eadd46",
   "metadata": {
    "ExecuteTime": {
     "end_time": "2022-10-13T08:24:43.234630Z",
     "start_time": "2022-10-13T08:24:43.213258Z"
    }
   },
   "source": [
    "这个例子表明第三个和第五个神经网络层的参数是绑定的。 它们不仅值相等，而且由相同的张量表示。 因此，如果我们改变其中一个参数，另一个参数也会改变。 你可能会思考：当参数绑定时，梯度会发生什么情况？ 答案是由于模型参数包含梯度，因此在反向传播期间第二个隐藏层 （即第三个神经网络层）和第三个隐藏层（即第五个神经网络层）的梯度会加在一起。"
   ]
  },
  {
   "cell_type": "code",
   "execution_count": null,
   "id": "9f797cff",
   "metadata": {},
   "outputs": [],
   "source": []
  }
 ],
 "metadata": {
  "kernelspec": {
   "display_name": "Python [conda env:d2l] *",
   "language": "python",
   "name": "conda-env-d2l-py"
  },
  "language_info": {
   "codemirror_mode": {
    "name": "ipython",
    "version": 3
   },
   "file_extension": ".py",
   "mimetype": "text/x-python",
   "name": "python",
   "nbconvert_exporter": "python",
   "pygments_lexer": "ipython3",
   "version": "3.10.4"
  },
  "toc": {
   "base_numbering": 1,
   "nav_menu": {},
   "number_sections": true,
   "sideBar": true,
   "skip_h1_title": false,
   "title_cell": "Table of Contents",
   "title_sidebar": "Contents",
   "toc_cell": false,
   "toc_position": {},
   "toc_section_display": true,
   "toc_window_display": true
  }
 },
 "nbformat": 4,
 "nbformat_minor": 5
}
