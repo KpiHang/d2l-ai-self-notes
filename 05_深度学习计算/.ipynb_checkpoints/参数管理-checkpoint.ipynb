{
 "cells": [
  {
   "cell_type": "code",
   "execution_count": 1,
   "id": "381a497f",
   "metadata": {
    "ExecuteTime": {
     "end_time": "2022-10-13T06:35:58.506636Z",
     "start_time": "2022-10-13T06:35:56.826539Z"
    }
   },
   "outputs": [
    {
     "data": {
      "text/plain": [
       "tensor([[0.4516],\n",
       "        [0.5172]], grad_fn=<AddmmBackward0>)"
      ]
     },
     "execution_count": 1,
     "metadata": {},
     "output_type": "execute_result"
    }
   ],
   "source": [
    "import torch\n",
    "from torch import nn\n",
    "\n",
    "net = nn.Sequential(nn.Linear(4, 8), nn.ReLU(), nn.Linear(8, 1))\n",
    "X = torch.rand(size=(2, 4))\n",
    "net(X)"
   ]
  },
  {
   "cell_type": "markdown",
   "id": "87436428",
   "metadata": {},
   "source": [
    "## 参数访问"
   ]
  },
  {
   "cell_type": "code",
   "execution_count": 3,
   "id": "b9317e6f",
   "metadata": {
    "ExecuteTime": {
     "end_time": "2022-10-13T06:38:08.910647Z",
     "start_time": "2022-10-13T06:38:08.902039Z"
    }
   },
   "outputs": [
    {
     "name": "stdout",
     "output_type": "stream",
     "text": [
      "OrderedDict([('weight', tensor([[-0.0205, -0.1595,  0.2746,  0.1488, -0.0511,  0.3292, -0.1727, -0.1077]])), ('bias', tensor([0.3476]))])\n"
     ]
    }
   ],
   "source": [
    "print(net[2].state_dict())"
   ]
  },
  {
   "cell_type": "code",
   "execution_count": 4,
   "id": "8ac1332d",
   "metadata": {
    "ExecuteTime": {
     "end_time": "2022-10-13T06:38:20.197955Z",
     "start_time": "2022-10-13T06:38:20.176887Z"
    }
   },
   "outputs": [
    {
     "name": "stdout",
     "output_type": "stream",
     "text": [
      "OrderedDict([('weight', tensor([[ 0.4450, -0.2869, -0.1569, -0.4670],\n",
      "        [-0.4799, -0.4326, -0.4883, -0.3525],\n",
      "        [ 0.4793,  0.2976,  0.4723, -0.3660],\n",
      "        [-0.4344, -0.4783, -0.0603,  0.4514],\n",
      "        [ 0.2143,  0.4647, -0.3964, -0.4162],\n",
      "        [ 0.4525,  0.3947,  0.4410, -0.2400],\n",
      "        [-0.1721, -0.4625, -0.3737, -0.3290],\n",
      "        [-0.2019,  0.2819,  0.4831, -0.3437]])), ('bias', tensor([-0.4420,  0.2074, -0.1590,  0.4899, -0.1096, -0.2476,  0.2828, -0.2150]))])\n"
     ]
    }
   ],
   "source": [
    "print(net[0].state_dict())"
   ]
  },
  {
   "cell_type": "code",
   "execution_count": 5,
   "id": "8f84c089",
   "metadata": {
    "ExecuteTime": {
     "end_time": "2022-10-13T06:38:54.368834Z",
     "start_time": "2022-10-13T06:38:54.365003Z"
    }
   },
   "outputs": [
    {
     "name": "stdout",
     "output_type": "stream",
     "text": [
      "OrderedDict()\n"
     ]
    }
   ],
   "source": [
    "print(net[1].state_dict()) # relu层哪来的权重，和偏差 hhh；"
   ]
  },
  {
   "cell_type": "code",
   "execution_count": null,
   "id": "0744b5da",
   "metadata": {},
   "outputs": [],
   "source": []
  }
 ],
 "metadata": {
  "kernelspec": {
   "display_name": "Python [conda env:d2l] *",
   "language": "python",
   "name": "conda-env-d2l-py"
  },
  "language_info": {
   "codemirror_mode": {
    "name": "ipython",
    "version": 3
   },
   "file_extension": ".py",
   "mimetype": "text/x-python",
   "name": "python",
   "nbconvert_exporter": "python",
   "pygments_lexer": "ipython3",
   "version": "3.10.4"
  },
  "toc": {
   "base_numbering": 1,
   "nav_menu": {},
   "number_sections": true,
   "sideBar": true,
   "skip_h1_title": false,
   "title_cell": "Table of Contents",
   "title_sidebar": "Contents",
   "toc_cell": false,
   "toc_position": {},
   "toc_section_display": true,
   "toc_window_display": true
  }
 },
 "nbformat": 4,
 "nbformat_minor": 5
}
